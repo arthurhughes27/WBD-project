{
 "cells": [
  {
   "cell_type": "markdown",
   "id": "533e2bd8",
   "metadata": {},
   "source": [
    "# Web Based Data Project Python Script: 2-Step Validation Model"
   ]
  },
  {
   "cell_type": "markdown",
   "id": "f5590697",
   "metadata": {},
   "source": [
    "### Importing Libraries"
   ]
  },
  {
   "cell_type": "code",
   "execution_count": null,
   "id": "860dd8ec",
   "metadata": {},
   "outputs": [],
   "source": [
    "from tqdm import tqdm\n",
    "import time\n",
    "from nltk.stem.porter import *\n",
    "from nltk.corpus import stopwords\n",
    "import string\n",
    "import re\n",
    "import simple_icd_10 as icd\n",
    "import pandas as pd\n",
    "import csv"
   ]
  },
  {
   "cell_type": "code",
   "execution_count": null,
   "id": "13a89114",
   "metadata": {},
   "outputs": [],
   "source": [
    "from Bio import Entrez\n",
    "from Bio.Entrez import efetch, read\n",
    "Entrez.email = \"arthur.hughes27@outlook.com\" "
   ]
  },
  {
   "cell_type": "code",
   "execution_count": null,
   "id": "30d84a49",
   "metadata": {},
   "outputs": [],
   "source": [
    "from pymed import PubMed\n",
    "pubmed = PubMed(email=\"arthur.hughes27@outlook.com\")"
   ]
  },
  {
   "cell_type": "markdown",
   "id": "65022fa2",
   "metadata": {},
   "source": [
    "## Retrieve links from pubmed papers using query"
   ]
  },
  {
   "cell_type": "markdown",
   "id": "e45661db",
   "metadata": {},
   "source": [
    "### helper function"
   ]
  },
  {
   "cell_type": "markdown",
   "id": "af477c4d",
   "metadata": {},
   "source": [
    "`mesh_helper(pmid)`: the function `mesh_helper` takes in a PubMed ID and retrieve its MeSH terms if any\n",
    "\n",
    "`get_link_from_abstract(abstract_lst)`: the function `get_link_from_abstract` takes in a list of abstract and it returns a list of sentences which contaning the target words in each abstract.\n",
    "\n",
    "`mesh_and_link(pmid_lst, link_lst)`: the function `mesh_and_link` takes in a list of PubMed ID and a list of sentences retrieved from the abstract; returns a dictionary containing the PubMed ID, MeSH terms and a list of sentences retrieved from the abstract."
   ]
  },
  {
   "cell_type": "code",
   "execution_count": null,
   "id": "cbd57ec2",
   "metadata": {},
   "outputs": [],
   "source": [
    "def mesh_helper(pmid):\n",
    "    # credit: https://stackoverflow.com/questions/13652230/cant-get-entrez-to-return-mesh-terms-using-biopython\n",
    "    # call PubMed API\n",
    "    handle = efetch(db='pubmed', id=str(pmid), retmode='xml')\n",
    "    xml_data = read(handle)['PubmedArticle'][0]\n",
    "\n",
    "    # skip articles without MeSH terms\n",
    "    if u'MeshHeadingList' in xml_data['MedlineCitation']:\n",
    "        for mesh in xml_data['MedlineCitation'][u'MeshHeadingList']:\n",
    "            # grab descriptor name\n",
    "            name = mesh['DescriptorName'].title()\n",
    "            descr = [mesh['DescriptorName']]\n",
    "            # grab descriptor id\n",
    "            mesh_id = list(descr[0].attributes.items())[0][1]\n",
    "            major = list(descr[0].attributes.items())[1][1]\n",
    "\n",
    "            yield(name, mesh_id, major)\n",
    "\n",
    "def get_link_from_abstract(abstract_lst):\n",
    "    res_lst = []\n",
    "    for abstract in abstract_lst:\n",
    "        # 1. lowercase everything\n",
    "        text = abstract.lower()\n",
    "        stemmer = PorterStemmer()\n",
    "        lines = text.split(\"\\n\")\n",
    "        # store sentence\n",
    "        res = []\n",
    "        for l in lines:\n",
    "            orig_l = l\n",
    "            # 2. Removing punctuation\n",
    "            l = l.translate(str.maketrans('', '', string.punctuation))\n",
    "            # 3. stemming\n",
    "            l = [stemmer.stem(x) for x in l.split()]   \n",
    "            l =' '.join(l)\n",
    "            # target stemmed word\n",
    "            yes = r\"(associ|relat|caus|lead|increas|decreas|result|show|link|affect)\"\n",
    "            # stopwords\n",
    "            no = r\"(investig|can|object|now|recent|whether|worldwid)\"\n",
    "            if re.findall(yes, l) != [] and re.findall(no, l) == []:\n",
    "                res.append(orig_l)\n",
    "        res_lst.append(res)\n",
    "    return res_lst\n",
    "            \n",
    "    \n",
    "def mesh_and_link(pmid_lst, link_lst):\n",
    "    dlst = {}\n",
    "    l = 0\n",
    "    for pmid in tqdm(pmid_lst):\n",
    "        time.sleep(0.3)\n",
    "        dlst_key = pmid[0:8]\n",
    "        helper = mesh_helper(pmid)\n",
    "        dlst_val = {}\n",
    "        for name, mesh_id, major in helper:\n",
    "            # grab mesh term with majortopic = Y only\n",
    "            if major == \"Y\":\n",
    "                dlst_val[mesh_id] = name\n",
    "        dlst_val['link'] = link_lst[l]\n",
    "        dlst[dlst_key]=dlst_val\n",
    "        l += 1\n",
    "                \n",
    "    return dlst"
   ]
  },
  {
   "cell_type": "markdown",
   "id": "5a719f37",
   "metadata": {},
   "source": [
    "### main function"
   ]
  },
  {
   "cell_type": "markdown",
   "id": "ab6596aa",
   "metadata": {},
   "source": [
    "`query_to_link(query, max_num)`: the function `query_to_link` takes in a query and a positive interger. The query is used for PubMining and the `max_num` controls the maximum number for output of the paper retrieved. It returns a dictionary which has PubMed ID as its keys. In the value of each key, it returns a dictionary of MeSH terms and a list of sentences of interest retrieved from the abstract for each paper."
   ]
  },
  {
   "cell_type": "code",
   "execution_count": null,
   "id": "36c6c63f",
   "metadata": {},
   "outputs": [],
   "source": [
    "def query_to_link(query, max_num):\n",
    "    try:\n",
    "        results= pubmed.query(query, max_results=max_num)    \n",
    "        articleList= []\n",
    "        for article in results:\n",
    "          articleDict = article.toDict()\n",
    "          articleList.append(articleDict)\n",
    "\n",
    "        df= pd.DataFrame(articleList) \n",
    "        pmid_lst = df.pubmed_id\n",
    "        link_lst = get_link_from_abstract(df.abstract)\n",
    "        \n",
    "        return mesh_and_link(pmid_lst, link_lst)\n",
    "    except:\n",
    "        print(\"No papers were found. Please modify your query.\")"
   ]
  },
  {
   "cell_type": "code",
   "execution_count": null,
   "id": "2112fccf",
   "metadata": {},
   "outputs": [],
   "source": [
    "## example\n",
    "query_to_link(\"cardiovascular disease, air pollution[TITLE]\", 10)"
   ]
  },
  {
   "cell_type": "markdown",
   "id": "929ece1b",
   "metadata": {},
   "source": [
    "# 2-Step Validation Model"
   ]
  },
  {
   "cell_type": "markdown",
   "id": "91b2ece8",
   "metadata": {},
   "source": [
    "## Step 1: Validation by CTD"
   ]
  },
  {
   "cell_type": "markdown",
   "id": "002cacfc",
   "metadata": {},
   "source": [
    "### helper function"
   ]
  },
  {
   "cell_type": "markdown",
   "id": "259e0979",
   "metadata": {},
   "source": [
    "`pollutant_ctd_disease(pollutant, num)`: the function `pollutant_ctd_disease` takes two values. `pollutant` is the name of pollutant and it is defined to be one of (O3, PM0.1, PM2.5, PM10, NO, NO2, SO2, CO, NOx). `num` is the number of chemical-disease associations to be retrieved from CTD. It returns a table with three columns. The first column is disease name, the second column is the MeSH ID for the disease, and the third column is the inference score of this association.\n",
    "\n",
    "`map_ctd(ctd_disease_lst, pred_disease)`: the function `map_ctd` takes in a list of disease name retrieved from CTD and a  disease name from the prediction. It returns a list of disease name retrieved from CTD which are similar to the disease name from the prediction."
   ]
  },
  {
   "cell_type": "code",
   "execution_count": null,
   "id": "3c64b863",
   "metadata": {},
   "outputs": [],
   "source": [
    "def pollutant_ctd_disease(pollutant, num):\n",
    "    try:\n",
    "        if pollutant == \"O3\":\n",
    "            pollutant_mesh_id = \"D010126\"\n",
    "        if pollutant.startswith(\"PM\"):\n",
    "            pollutant_mesh_id = \"D052638\"\n",
    "        if pollutant == \"NO2\":\n",
    "            pollutant_mesh_id = \"D009585\"\n",
    "        if pollutant == \"NO\":\n",
    "            pollutant_mesh_id = \"D009569\"\n",
    "        if pollutant == \"SO2\":\n",
    "            pollutant_mesh_id = \"D013458\"\n",
    "        if pollutant == \"CO\":\n",
    "            pollutant_mesh_id = \"D002248\"\n",
    "        if pollutant == \"NOx\":\n",
    "            pollutant_mesh_id = \"D009589\"\n",
    "\n",
    "\n",
    "        base = \"http://ctdbase.org/detail.go?acc=\"\n",
    "        # we look into cardiovascular disease only; inferenece are sorted in the order of inference score\n",
    "        tail = \"&view=disease&slimTerm=Cardiovascular+disease&assnType=all&sort=networkScore&6578706f7274=1&type=chem&dir=asc&d-1332398-e=5\"\n",
    "        url =  base+pollutant_mesh_id+tail\n",
    "        res = pd.read_table(url)[['Disease Name', 'Disease ID', 'Inference Score']]\n",
    "        if num <= len(res.index):\n",
    "            return(res.head(num))\n",
    "        else:\n",
    "            print(\"The requested number of output exceeded the maximum. The maximum number of output can be returned is {}.\".format(len(res.index)))\n",
    "        \n",
    "    except:\n",
    "        print(\"Make sure the input is one of (O3, PM0.1, PM2.5, PM10, NO, NO2, SO2, CO, NOx)\")\n",
    "\n",
    "def map_ctd(ctd_disease_lst, pred_disease):\n",
    "    res = []\n",
    "    stemmer = PorterStemmer()\n",
    "    # 1. remove punctuation\n",
    "    pred_disease = pred_disease.translate(str.maketrans('', '', string.punctuation))\n",
    "    # 2. stemming\n",
    "    pred_disease = [stemmer.stem(x) for x in pred_disease.split()]\n",
    "    \n",
    "    for d in ctd_disease_lst:\n",
    "        # 1. lowercase everything\n",
    "        ctd_d = d.lower()\n",
    "        # 2. remove punctuation\n",
    "        ctd_d = ctd_d.translate(str.maketrans('', '', string.punctuation))\n",
    "        ctd_d = ctd_d.split()\n",
    "        stop_words = [\"diseas\"]\n",
    "        # 3. stemming and remove stopwords\n",
    "        ctd_d = [stemmer.stem(x) for x in ctd_d if stemmer.stem(x) not in stop_words ]\n",
    "       \n",
    "        for t in ctd_d:\n",
    "            if t in pred_disease:\n",
    "                res.append(d)\n",
    "                break\n",
    "    return res\n"
   ]
  },
  {
   "cell_type": "code",
   "execution_count": null,
   "id": "f465f953",
   "metadata": {},
   "outputs": [],
   "source": [
    "## example 1\n",
    "pollutant_ctd_disease(\"O3\", 10)"
   ]
  },
  {
   "cell_type": "code",
   "execution_count": null,
   "id": "3082cd79",
   "metadata": {},
   "outputs": [],
   "source": [
    "## example 2\n",
    "map_ctd(pollutant_ctd_disease(\"O3\", 10)['Disease Name'], \"Heart Failure\")"
   ]
  },
  {
   "cell_type": "markdown",
   "id": "665273f8",
   "metadata": {},
   "source": [
    "### main function"
   ]
  },
  {
   "cell_type": "markdown",
   "id": "d912da99",
   "metadata": {},
   "source": [
    "`pred_to_ctd(pred_csv, num=10)`: the function `pred_to_ctd` takes in two values. `pred_csv` is the name of csv file stored the prediction (first column: pollutant, second column: ICD 10 code). `num` is the number of chemical-disease associations to be retrieved from CTD (for `pollutant_ctd_disease`). The default `num` is 10.\n",
    "\n",
    "It returns a dataframe with four columns. The first three columns containing the prediction (pollutant, ICD 10 code of the disease, the name of the disease). The fourth columns containing the matched diseases from CTD. It will either be a list of disease name or \"no match\"."
   ]
  },
  {
   "cell_type": "code",
   "execution_count": null,
   "id": "f1171b2a",
   "metadata": {},
   "outputs": [],
   "source": [
    "def pred_to_ctd(pred_csv, num=10):\n",
    "    pred = open(pred_csv, 'r')\n",
    "    pred = csv.reader(pred, delimiter = '\\t')\n",
    "    res = []\n",
    "    for row in pred:\n",
    "        time.sleep(0.3)\n",
    "        pollutant = row[0]\n",
    "        icd_code = row[1]\n",
    "        disease = icd.get_description(icd_code).lower()\n",
    "        \n",
    "        ctd = pollutant_ctd_disease(pollutant, num)\n",
    "        \n",
    "        ctd_res = map_ctd(ctd['Disease Name'], disease)\n",
    "        \n",
    "        if ctd_res != []:\n",
    "            res.append([pollutant, icd_code, disease, \";\".join(ctd_res)])\n",
    "        else:\n",
    "            res.append([pollutant, icd_code, disease, \"no match\"])\n",
    "\n",
    "    res = pd.DataFrame(res, columns=[\"Pollutant\", \"ICD 10 Code\", \"Disease\", \"CTD\"])\n",
    "    return res"
   ]
  },
  {
   "cell_type": "code",
   "execution_count": null,
   "id": "643a28f4",
   "metadata": {},
   "outputs": [],
   "source": [
    "## res.csv is the prediction file from our study\n",
    "pred_res = pred_to_ctd('res.csv', 10).head(20)\n",
    "pred_res"
   ]
  },
  {
   "cell_type": "code",
   "execution_count": null,
   "id": "524ff74d",
   "metadata": {},
   "outputs": [],
   "source": [
    "pred_res.to_csv('pred_validation.csv')"
   ]
  },
  {
   "cell_type": "markdown",
   "id": "9c499939",
   "metadata": {},
   "source": [
    "## Step 2: Validation by PubMining"
   ]
  },
  {
   "cell_type": "markdown",
   "id": "3051fff4",
   "metadata": {},
   "source": [
    "we process the step 2 validation on those links which found no match in the first step"
   ]
  },
  {
   "cell_type": "code",
   "execution_count": null,
   "id": "b26dca4d",
   "metadata": {},
   "outputs": [],
   "source": [
    "un_match = pred_res.loc[ pred_res[\"CTD\"] == \"no match\"]\n",
    "un_match"
   ]
  },
  {
   "cell_type": "markdown",
   "id": "263e34cd",
   "metadata": {},
   "source": [
    "### Main function"
   ]
  },
  {
   "cell_type": "markdown",
   "id": "555a7661",
   "metadata": {},
   "source": [
    "`pred_to_pub(pollutant, disease, num=10)`: the function `pred_to_pub` takes in a pollutant, a disease and a positive integer. `num` controls the maximum output of PubMining. The default is 10. The function returns a dictionary which containing PubMed ID, MeSH terms and a list of sentences of interest retrieved from the abstract for each paper it mined."
   ]
  },
  {
   "cell_type": "code",
   "execution_count": null,
   "id": "4fdd9d7b",
   "metadata": {},
   "outputs": [],
   "source": [
    "def pred_to_pub(pollutant, disease, num=10):\n",
    "    # 1. remove punctuation\n",
    "    disease = disease.translate(str.maketrans('', '', string.punctuation))\n",
    "    stopword = stopwords.words(\"english\")\n",
    "    stopword.extend([\"unspecified\"])\n",
    "    # 2. stopwords\n",
    "    disease = [x for x in disease.split() if x not in stopword]\n",
    "    disease = ' '.join(disease)\n",
    "    # 3. build a query to search\n",
    "    query = pollutant + \" \" + disease\n",
    "    return query_to_link(query, num)"
   ]
  },
  {
   "cell_type": "code",
   "execution_count": null,
   "id": "84ae98cc",
   "metadata": {},
   "outputs": [],
   "source": [
    "## example: one of the prediction that found no match in step 1 validation\n",
    "pred_to_pub(\"SO2\", \"atherosclerotic heart disease\")"
   ]
  },
  {
   "cell_type": "code",
   "execution_count": null,
   "id": "42d235f1",
   "metadata": {
    "scrolled": false
   },
   "outputs": [],
   "source": []
  },
  {
   "cell_type": "code",
   "execution_count": null,
   "id": "5de2e887",
   "metadata": {},
   "outputs": [],
   "source": []
  },
  {
   "cell_type": "code",
   "execution_count": null,
   "id": "e097d948",
   "metadata": {},
   "outputs": [],
   "source": []
  },
  {
   "cell_type": "code",
   "execution_count": null,
   "id": "3fe05a81",
   "metadata": {},
   "outputs": [],
   "source": []
  }
 ],
 "metadata": {
  "kernelspec": {
   "display_name": "Python 3 (ipykernel)",
   "language": "python",
   "name": "python3"
  },
  "language_info": {
   "codemirror_mode": {
    "name": "ipython",
    "version": 3
   },
   "file_extension": ".py",
   "mimetype": "text/x-python",
   "name": "python",
   "nbconvert_exporter": "python",
   "pygments_lexer": "ipython3",
   "version": "3.9.12"
  }
 },
 "nbformat": 4,
 "nbformat_minor": 5
}
