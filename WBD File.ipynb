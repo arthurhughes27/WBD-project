{
 "cells": [
  {
   "cell_type": "markdown",
   "id": "533e2bd8",
   "metadata": {},
   "source": [
    "# Web Based Data Project Python Script"
   ]
  },
  {
   "cell_type": "markdown",
   "id": "f5590697",
   "metadata": {},
   "source": [
    "### Importing Libraries and connecting to the server"
   ]
  },
  {
   "cell_type": "code",
   "execution_count": 116,
   "id": "30d84a49",
   "metadata": {},
   "outputs": [],
   "source": [
    "from pymed import PubMed\n",
    "import pandas as pd\n",
    "import scispacy\n",
    "import spacy\n",
    "from spacy import displacy\n",
    "from collections import Counter\n",
    "import en_core_web_sm\n",
    "from nltk import word_tokenize\n",
    "import csv\n",
    "pubmed = PubMed(email=\"arthur.hughes27@outlook.com\")"
   ]
  },
  {
   "cell_type": "markdown",
   "id": "6c4ee3b6",
   "metadata": {},
   "source": [
    "### Find PubMed articles with keyword \"cardiovascular disease\" and the available molecules"
   ]
  },
  {
   "cell_type": "code",
   "execution_count": 140,
   "id": "27f56845",
   "metadata": {},
   "outputs": [],
   "source": [
    "query = \"cardiovascular disease, air pollution[TITLE]\"\n",
    "results= pubmed.query(query, max_results=2000)  #save 50 results \n",
    "articleList= []\n",
    "for article in results:   #for loop to collect articles\n",
    "  articleDict = article.toDict()\n",
    "  articleList.append(articleDict)"
   ]
  },
  {
   "cell_type": "code",
   "execution_count": 141,
   "id": "40e1b168",
   "metadata": {},
   "outputs": [
    {
     "data": {
      "text/plain": [
       "0       Telomeres are repetitive DNA-protein sequences...\n",
       "1       Household air pollution (HAP) due to the use o...\n",
       "2       The link between air pollution-attributed card...\n",
       "3       Stroke remains the second cause of death world...\n",
       "4       Although environmental exposure such as air po...\n",
       "                              ...                        \n",
       "1995    This article briefly summarizes the epidemiolo...\n",
       "1996    The authors analyzed whether there is an assoc...\n",
       "1997    The authors analyzed daily mortality data in S...\n",
       "1998    We used daily time-series analysis to evaluate...\n",
       "1999    The analysis of short term relation between da...\n",
       "Name: abstract, Length: 2000, dtype: object"
      ]
     },
     "execution_count": 141,
     "metadata": {},
     "output_type": "execute_result"
    }
   ],
   "source": [
    "df= pd.DataFrame(articleList) #save to dataframe\n",
    "#df.head(50)\n",
    "df.abstract\n",
    "#first abstract"
   ]
  },
  {
   "cell_type": "markdown",
   "id": "66fcfec8",
   "metadata": {},
   "source": [
    "### NLP - Find potential links"
   ]
  },
  {
   "cell_type": "code",
   "execution_count": 145,
   "id": "5de2e887",
   "metadata": {},
   "outputs": [],
   "source": [
    "key_sentences=[]\n",
    "search_keywords=['associated']\n",
    "for abstract in df.abstract:\n",
    "    if abstract is not None:\n",
    "        sentences = abstract.split(\".\")\n",
    "        for sentence in sentences:\n",
    "            if sum(1 for word in search_keywords if word in sentence)>0:\n",
    "                key_sentences.append(sentence.lower())"
   ]
  },
  {
   "cell_type": "code",
   "execution_count": 146,
   "id": "e097d948",
   "metadata": {},
   "outputs": [],
   "source": [
    "potential_links=[]\n",
    "search_keywords=['NO2','O3','particulate','pollutant','air pollution','SO2','CO2','PM2.5','PM10','CO','Carbon','Oxygen']\n",
    "for element in key_sentences:\n",
    "    if sum(1 for word in search_keywords if word in element)>0:\n",
    "        potential_links.append(element)\n",
    "df2=pd.DataFrame(potential_links)\n",
    "df2.to_csv('sentences.csv',index=False)"
   ]
  },
  {
   "cell_type": "code",
   "execution_count": 147,
   "id": "3fe05a81",
   "metadata": {},
   "outputs": [
    {
     "data": {
      "text/html": [
       "<div>\n",
       "<style scoped>\n",
       "    .dataframe tbody tr th:only-of-type {\n",
       "        vertical-align: middle;\n",
       "    }\n",
       "\n",
       "    .dataframe tbody tr th {\n",
       "        vertical-align: top;\n",
       "    }\n",
       "\n",
       "    .dataframe thead th {\n",
       "        text-align: right;\n",
       "    }\n",
       "</style>\n",
       "<table border=\"1\" class=\"dataframe\">\n",
       "  <thead>\n",
       "    <tr style=\"text-align: right;\">\n",
       "      <th></th>\n",
       "      <th>0</th>\n",
       "    </tr>\n",
       "  </thead>\n",
       "  <tbody>\n",
       "    <tr>\n",
       "      <th>0</th>\n",
       "      <td>in particular, air pollution was associated w...</td>\n",
       "    </tr>\n",
       "    <tr>\n",
       "      <th>1</th>\n",
       "      <td>\\nan increased exposure to any class of air po...</td>\n",
       "    </tr>\n",
       "    <tr>\n",
       "      <th>2</th>\n",
       "      <td>long-term exposure to air pollution has been a...</td>\n",
       "    </tr>\n",
       "    <tr>\n",
       "      <th>3</th>\n",
       "      <td>\\nto investigate changes in serum metabolites ...</td>\n",
       "    </tr>\n",
       "    <tr>\n",
       "      <th>4</th>\n",
       "      <td>27 μg/m\\nour study suggested that long-term ex...</td>\n",
       "    </tr>\n",
       "    <tr>\n",
       "      <th>...</th>\n",
       "      <td>...</td>\n",
       "    </tr>\n",
       "    <tr>\n",
       "      <th>784</th>\n",
       "      <td>in the elderly, a 3-4% increase in daily deat...</td>\n",
       "    </tr>\n",
       "    <tr>\n",
       "      <th>785</th>\n",
       "      <td>in addition, it seems that older age groups a...</td>\n",
       "    </tr>\n",
       "    <tr>\n",
       "      <th>786</th>\n",
       "      <td>air pollution was associated with each of the...</td>\n",
       "    </tr>\n",
       "    <tr>\n",
       "      <th>787</th>\n",
       "      <td>in general, the gases, particularly co, but n...</td>\n",
       "    </tr>\n",
       "    <tr>\n",
       "      <th>788</th>\n",
       "      <td>the results of the current study reveal incre...</td>\n",
       "    </tr>\n",
       "  </tbody>\n",
       "</table>\n",
       "<p>789 rows × 1 columns</p>\n",
       "</div>"
      ],
      "text/plain": [
       "                                                     0\n",
       "0     in particular, air pollution was associated w...\n",
       "1    \\nan increased exposure to any class of air po...\n",
       "2    long-term exposure to air pollution has been a...\n",
       "3    \\nto investigate changes in serum metabolites ...\n",
       "4    27 μg/m\\nour study suggested that long-term ex...\n",
       "..                                                 ...\n",
       "784   in the elderly, a 3-4% increase in daily deat...\n",
       "785   in addition, it seems that older age groups a...\n",
       "786   air pollution was associated with each of the...\n",
       "787   in general, the gases, particularly co, but n...\n",
       "788   the results of the current study reveal incre...\n",
       "\n",
       "[789 rows x 1 columns]"
      ]
     },
     "execution_count": 147,
     "metadata": {},
     "output_type": "execute_result"
    }
   ],
   "source": [
    "df2"
   ]
  }
 ],
 "metadata": {
  "kernelspec": {
   "display_name": "Python 3 (ipykernel)",
   "language": "python",
   "name": "python3"
  },
  "language_info": {
   "codemirror_mode": {
    "name": "ipython",
    "version": 3
   },
   "file_extension": ".py",
   "mimetype": "text/x-python",
   "name": "python",
   "nbconvert_exporter": "python",
   "pygments_lexer": "ipython3",
   "version": "3.9.12"
  }
 },
 "nbformat": 4,
 "nbformat_minor": 5
}
