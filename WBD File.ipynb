{
 "cells": [
  {
   "cell_type": "markdown",
   "id": "533e2bd8",
   "metadata": {},
   "source": [
    "# Web Based Data Project Python Script: 2-Step Validation Model"
   ]
  },
  {
   "cell_type": "markdown",
   "id": "f5590697",
   "metadata": {},
   "source": [
    "### Importing Libraries"
   ]
  },
  {
   "cell_type": "code",
   "execution_count": 15,
   "id": "860dd8ec",
   "metadata": {},
   "outputs": [],
   "source": [
    "from tqdm import tqdm\n",
    "import time\n",
    "from nltk.stem.porter import *\n",
    "from nltk.corpus import stopwords\n",
    "import string\n",
    "import re\n",
    "import simple_icd_10 as icd\n",
    "import pandas as pd\n",
    "import csv"
   ]
  },
  {
   "cell_type": "code",
   "execution_count": 16,
   "id": "13a89114",
   "metadata": {},
   "outputs": [],
   "source": [
    "from Bio import Entrez\n",
    "from Bio.Entrez import efetch, read\n",
    "Entrez.email = \"arthur.hughes27@outlook.com\" "
   ]
  },
  {
   "cell_type": "code",
   "execution_count": 17,
   "id": "30d84a49",
   "metadata": {},
   "outputs": [],
   "source": [
    "from pymed import PubMed\n",
    "pubmed = PubMed(email=\"arthur.hughes27@outlook.com\")"
   ]
  },
  {
   "cell_type": "markdown",
   "id": "65022fa2",
   "metadata": {},
   "source": [
    "## Retrieve links from pubmed papers using query"
   ]
  },
  {
   "cell_type": "markdown",
   "id": "e45661db",
   "metadata": {},
   "source": [
    "### helper function"
   ]
  },
  {
   "cell_type": "markdown",
   "id": "db490a62",
   "metadata": {},
   "source": [
    "`mesh_helper(pmid)`: the function `mesh_helper` takes in a PubMed ID and retrieve its MeSH terms if any\n",
    "\n",
    "`get_link_from_abstract(abstract_lst)`: the function `get_link_from_abstract` takes in a list of abstract and it returns a list of sentences which contaning the target words in each abstract.\n",
    "\n",
    "`mesh_and_link(pmid_lst, link_lst)`: the function `mesh_and_link` takes in a list of PubMed ID and a list of sentences retrieved from the abstract; returns a dictionary containing the PubMed ID, MeSH terms and a list of sentences retrieved from the abstract."
   ]
  },
  {
   "cell_type": "code",
   "execution_count": 18,
   "id": "cbd57ec2",
   "metadata": {},
   "outputs": [],
   "source": [
    "def mesh_helper(pmid):\n",
    "    # credit: https://stackoverflow.com/questions/13652230/cant-get-entrez-to-return-mesh-terms-using-biopython\n",
    "    # call PubMed API\n",
    "    handle = efetch(db='pubmed', id=str(pmid), retmode='xml')\n",
    "    xml_data = read(handle)['PubmedArticle'][0]\n",
    "\n",
    "    # skip articles without MeSH terms\n",
    "    if u'MeshHeadingList' in xml_data['MedlineCitation']:\n",
    "        for mesh in xml_data['MedlineCitation'][u'MeshHeadingList']:\n",
    "            # grab descriptor name\n",
    "            name = mesh['DescriptorName'].title()\n",
    "            descr = [mesh['DescriptorName']]\n",
    "            # grab descriptor id\n",
    "            mesh_id = list(descr[0].attributes.items())[0][1]\n",
    "            major = list(descr[0].attributes.items())[1][1]\n",
    "\n",
    "            yield(name, mesh_id, major)\n",
    "\n",
    "def get_link_from_abstract(abstract_lst):\n",
    "    res_lst = []\n",
    "    for abstract in abstract_lst:\n",
    "        # 1. lowercase everything\n",
    "        text = abstract.lower()\n",
    "        stemmer = PorterStemmer()\n",
    "        # we go sentence by sentence\n",
    "        lines = text.split(\". \")\n",
    "        # store sentence\n",
    "        res = []\n",
    "        for l in lines:\n",
    "            orig_l = l\n",
    "            # 2. Removing punctuation\n",
    "            l = l.translate(str.maketrans('', '', string.punctuation))\n",
    "            # 3. stemming\n",
    "            l = [stemmer.stem(x) for x in l.split()]   \n",
    "            l =' '.join(l)\n",
    "            # target stemmed word\n",
    "            yes = r\"(associ|relat|caus|lead|increas|decreas|result|show|link|affect)\"\n",
    "            # stopwords\n",
    "            no = r\"(investig|can|object|now|recent|whether|worldwid)\"\n",
    "            if re.findall(yes, l) != [] and re.findall(no, l) == []:\n",
    "                res.append(orig_l)\n",
    "        res_lst.append(res)\n",
    "    return res_lst\n",
    "            \n",
    "    \n",
    "def mesh_and_link(pmid_lst, link_lst):\n",
    "    dlst = {}\n",
    "    l = 0\n",
    "    for pmid in tqdm(pmid_lst):\n",
    "        time.sleep(0.3)\n",
    "        dlst_key = pmid[0:8]\n",
    "        helper = mesh_helper(pmid)\n",
    "        dlst_val = {}\n",
    "        for name, mesh_id, major in helper:\n",
    "            # grab mesh term with majortopic = Y only\n",
    "            if major == \"Y\":\n",
    "                dlst_val[mesh_id] = name\n",
    "        dlst_val['link'] = link_lst[l]\n",
    "        dlst[dlst_key]=dlst_val\n",
    "        l += 1\n",
    "                \n",
    "    return dlst"
   ]
  },
  {
   "cell_type": "markdown",
   "id": "5a719f37",
   "metadata": {},
   "source": [
    "### main function"
   ]
  },
  {
   "cell_type": "markdown",
   "id": "0f274363",
   "metadata": {},
   "source": [
    "`query_to_link(query, max_num)`: the function `query_to_link` takes in a query and a positive interger. The query is used for PubMining and the `max_num` controls the maximum number for output of the paper retrieved. It returns a dictionary which has PubMed ID as its keys. In the value of each key, it returns a dictionary of MeSH terms and a list of sentences of interest retrieved from the abstract for each paper."
   ]
  },
  {
   "cell_type": "code",
   "execution_count": 19,
   "id": "36c6c63f",
   "metadata": {},
   "outputs": [],
   "source": [
    "def query_to_link(query, max_num):\n",
    "    try:\n",
    "        results= pubmed.query(query, max_results=max_num)    \n",
    "        articleList= []\n",
    "        for article in results:\n",
    "          articleDict = article.toDict()\n",
    "          articleList.append(articleDict)\n",
    "\n",
    "        df= pd.DataFrame(articleList) \n",
    "        pmid_lst = df.pubmed_id\n",
    "        link_lst = get_link_from_abstract(df.abstract)\n",
    "        \n",
    "        return mesh_and_link(pmid_lst, link_lst)\n",
    "    except:\n",
    "        print(\"No papers were found. Please modify your query.\")"
   ]
  },
  {
   "cell_type": "code",
   "execution_count": 20,
   "id": "2112fccf",
   "metadata": {},
   "outputs": [
    {
     "name": "stderr",
     "output_type": "stream",
     "text": [
      "100%|███████████████████████████████████████████| 10/10 [00:12<00:00,  1.23s/it]\n"
     ]
    },
    {
     "data": {
      "text/plain": [
       "{'36498110': {'link': ['air pollution exposure already starts in utero before birth, potentially causing delayed chronic diseases arising later in life',\n",
       "   'there are, indeed, time windows during the life of individuals who are more susceptible to air pollution exposure, which may result in more severe outcomes']},\n",
       " '36494401': {'link': ['our finding demonstrated that cardiovascular diseases in elderly males and females in iran had a general decreasing trend (aapc\\u2009=\\u2009-0.77% and -0.65%, respectively)',\n",
       "   'the results showed a positive correlation between exposure to ambient ozone pollution (p\\u2009≤\\u20090.001, r\\u2009=\\u20090.94) ambient particulate and air pollution (p\\u2009<\\u20090.001, r\\u2009=\\u20090.99) and mortality of cardiovascular disease',\n",
       "   'evidence from this study indicated that ambient air pollution, directly and indirectly, affects cardiovascular disease mortality in two ways by increasing the prevalence of some traditional cardiovascular disease risk factors',\n",
       "   'evidence-based clinical and public health methodologies are necessary to decrease the burden of death and disability associated with cardiovascular disease.']},\n",
       " '36462796': {'D000397': 'Air Pollution',\n",
       "  'D010575': 'Pesticides',\n",
       "  'link': ['environmental and occupational factors may contribute to telomere length (tl) shortening, as demonstrated by an increasing number of studies',\n",
       "   'in particular, air pollution was associated with aging-related health outcomes and molecular alterations, such as telomeric shortening']},\n",
       " '36458358': {'D003296': 'Cooking',\n",
       "  'D000397': 'Air Pollution',\n",
       "  'link': ['health outcomes and relative risks associated with hap exposure were identified',\n",
       "   'in 2012, hap exposure was estimated to have caused 8 862 deaths (95% uncertainty interval (ui) 8 413 - 9 251) and 1.7% (95% ui 1.6% - 1.8%) of all deaths in sa, respectively',\n",
       "   'age standardised burden measures showed that these three provinces had the highest rates of death and daly burden attributable to hap.\\nthe burden of disease from hap due to cooking in sa is of significant concern']},\n",
       " '36456430': {'link': ['lorenz curves and concentration index were used to estimate the inequalities in the state-apacvd burden and the burden per 100,000 population.\\nat the state level, apacvd burden was inversely related to the hdi value in india for the years 2009 (r=-0.48), 2014 (r=-0.47), and 2019 (r=-0.37), and the association was statistically significant (p<0.05)',\n",
       "   'the apacvd was 53% unequally distributed across the states, with a concentration index of 0.53 in\\xa02009.\\nwe observed that at the state level, the apacvd burden was inversely related to hdi',\n",
       "   \"but the apacvd burden increased with the country's economic development\",\n",
       "   \"also, the excess apacvd burden appears to be attributable to the economically developed states.\\nat the state level, apacvd burden decreased as hdi rose over time, indicating that the burden increased with the country's economic development\"]},\n",
       " '36446272': {'D020521': 'Stroke',\n",
       "  'D000076764': 'Traffic-Related Pollution',\n",
       "  'D002318': 'Cardiovascular Diseases',\n",
       "  'D000397': 'Air Pollution',\n",
       "  'link': ['the mechanisms underlying the adverse association of exposure to traffic-related air pollution (trap) with overall cardiovascular disease may also apply to stroke',\n",
       "   'the meta-analytic relative risks (and 95% confidence intervals) were: 1.03 (0.98-1.09) per 1\\xa0μg/m\\nthe available literature provides low to moderate evidence for an association of trap with stroke.']},\n",
       " '36434404': {'link': ['we provide updated evidence between air pollutants and cvd outcomes including mitigation strategies with meta-analytic evidence.\\nan increased exposure to any class of air pollutants including particulate matter (pm), gas, toxic metals, and disruptive chemicals has been associated with cvd events',\n",
       "   'exposure to pm\\u2009<\\u20092.5\\xa0μm has been consistently associated with most heart diseases and stroke as well as cvds among at-risk individuals']},\n",
       " '36416472': {'link': ['as consequences of industrial processes, air pollution has led to increased cardiovascular diseases resulting in mortality']},\n",
       " '36413929': {'D000095225': 'East Asian People',\n",
       "  'D000397': 'Air Pollution',\n",
       "  'link': ['stratified analyses and sensitivity analyses examined the effect modification and robustness of the association.\\nof the 19,295 participants (mean age: 58.9\\xa0years), 40.9\\xa0% have multimorbidity',\n",
       "   'hap from solid fuel use was positively associated with an increased number of morbidities (adjusted β\\xa0=\\xa00.329, 0.290 to 0.368), after controlling for confounders',\n",
       "   'no significant modifications of those associations by the socio-demographic and behaviour characteristics was observed.\\nhap from solid fuel use is associated with a high risk of chronic multimorbidity in chinese adults']},\n",
       " '36409413': {'link': ['while the results were not entirely consistent, the current study followed the preferred reporting items for systematic reviews and meta-analyses (prisma) protocol to conduct a comprehensive review and meta-analysis',\n",
       "   'the pooled relative risks (rrs) with 95% confidence intervals (ci) were used to estimate the effect of household air pollution on all-cause and cause-special mortality']}}"
      ]
     },
     "execution_count": 20,
     "metadata": {},
     "output_type": "execute_result"
    }
   ],
   "source": [
    "## example\n",
    "query_to_link(\"cardiovascular disease, air pollution[TITLE]\", 10)"
   ]
  },
  {
   "cell_type": "markdown",
   "id": "929ece1b",
   "metadata": {},
   "source": [
    "# 2-Step Validation Model"
   ]
  },
  {
   "cell_type": "markdown",
   "id": "b271ccc5",
   "metadata": {},
   "source": [
    "## Step 1: Validation by CTD"
   ]
  },
  {
   "cell_type": "markdown",
   "id": "002cacfc",
   "metadata": {},
   "source": [
    "### helper function"
   ]
  },
  {
   "cell_type": "markdown",
   "id": "7760ebbb",
   "metadata": {},
   "source": [
    "`pollutant_ctd_disease(pollutant, num)`: the function `pollutant_ctd_disease` takes two values. `pollutant` is the name of pollutant and it is defined to be one of (O3, PM0.1, PM2.5, PM10, NO, NO2, SO2, CO, NOx). `num` is the number of chemical-disease associations to be retrieved from CTD. It returns a table with three columns. The first column is disease name, the second column is the MeSH ID for the disease, and the third column is the inference score of this association.\n",
    "\n",
    "`map_ctd(ctd_disease_lst, pred_disease)`: the function `map_ctd` takes in a list of disease name retrieved from CTD and a  disease name from the prediction. It returns a list of disease name retrieved from CTD which are similar to the disease name from the prediction."
   ]
  },
  {
   "cell_type": "code",
   "execution_count": 21,
   "id": "3c64b863",
   "metadata": {},
   "outputs": [],
   "source": [
    "def pollutant_ctd_disease(pollutant, num):\n",
    "    try:\n",
    "        if pollutant == \"O3\":\n",
    "            pollutant_mesh_id = \"D010126\"\n",
    "        if pollutant.startswith(\"PM\"):\n",
    "            pollutant_mesh_id = \"D052638\"\n",
    "        if pollutant == \"NO2\":\n",
    "            pollutant_mesh_id = \"D009585\"\n",
    "        if pollutant == \"NO\":\n",
    "            pollutant_mesh_id = \"D009569\"\n",
    "        if pollutant == \"SO2\":\n",
    "            pollutant_mesh_id = \"D013458\"\n",
    "        if pollutant == \"CO\":\n",
    "            pollutant_mesh_id = \"D002248\"\n",
    "        if pollutant == \"NOx\":\n",
    "            pollutant_mesh_id = \"D009589\"\n",
    "\n",
    "\n",
    "        base = \"http://ctdbase.org/detail.go?acc=\"\n",
    "        # we look into cardiovascular disease only; inferenece are sorted in the order of inference score\n",
    "        tail = \"&view=disease&slimTerm=Cardiovascular+disease&assnType=all&sort=networkScore&6578706f7274=1&type=chem&dir=asc&d-1332398-e=5\"\n",
    "        url =  base+pollutant_mesh_id+tail\n",
    "        res = pd.read_table(url)[['Disease Name', 'Disease ID', 'Inference Score']]\n",
    "        if num <= len(res.index):\n",
    "            return(res.head(num))\n",
    "        else:\n",
    "            print(\"The requested number of output exceeded the maximum. The maximum number of output can be returned is {}.\".format(len(res.index)))\n",
    "        \n",
    "    except:\n",
    "        print(\"Make sure the input is one of (O3, PM0.1, PM2.5, PM10, NO, NO2, SO2, CO, NOx)\")\n",
    "\n",
    "def map_ctd(ctd_disease_lst, pred_disease):\n",
    "    res = []\n",
    "    stemmer = PorterStemmer()\n",
    "    # 1. remove punctuation\n",
    "    pred_disease = pred_disease.translate(str.maketrans('', '', string.punctuation))\n",
    "    # 2. stemming\n",
    "    pred_disease = [stemmer.stem(x) for x in pred_disease.split()]\n",
    "    \n",
    "    for d in ctd_disease_lst:\n",
    "        # 1. lowercase everything\n",
    "        ctd_d = d.lower()\n",
    "        # 2. remove punctuation\n",
    "        ctd_d = ctd_d.translate(str.maketrans('', '', string.punctuation))\n",
    "        ctd_d = ctd_d.split()\n",
    "        stop_words = [\"diseas\"]\n",
    "        # 3. stemming and remove stopwords\n",
    "        ctd_d = [stemmer.stem(x) for x in ctd_d if stemmer.stem(x) not in stop_words ]\n",
    "       \n",
    "        for t in ctd_d:\n",
    "            if t in pred_disease:\n",
    "                res.append(d)\n",
    "                break\n",
    "    return res\n"
   ]
  },
  {
   "cell_type": "code",
   "execution_count": null,
   "id": "f465f953",
   "metadata": {},
   "outputs": [],
   "source": [
    "## example 1\n",
    "pollutant_ctd_disease(\"O3\", 10)"
   ]
  },
  {
   "cell_type": "code",
   "execution_count": null,
   "id": "9e210c93",
   "metadata": {},
   "outputs": [],
   "source": [
    "## example 2\n",
    "map_ctd(pollutant_ctd_disease(\"O3\", 10)['Disease Name'], \"Heart Failure\")"
   ]
  },
  {
   "cell_type": "markdown",
   "id": "665273f8",
   "metadata": {},
   "source": [
    "### main function"
   ]
  },
  {
   "cell_type": "markdown",
   "id": "709a3b10",
   "metadata": {},
   "source": [
    "`pred_to_ctd(pred_csv, num=10)`: the function `pred_to_ctd` takes in two values. `pred_csv` is the name of csv file stored the prediction (first column: pollutant, second column: ICD 10 code). `num` is the number of chemical-disease associations to be retrieved from CTD (for `pollutant_ctd_disease`). The default `num` is 10.\n",
    "\n",
    "It returns a dataframe with four columns. The first three columns containing the prediction (pollutant, ICD 10 code of the disease, the name of the disease). The fourth columns containing the matched diseases from CTD. It will either be a list of disease name or \"no match\"."
   ]
  },
  {
   "cell_type": "code",
   "execution_count": 22,
   "id": "f1171b2a",
   "metadata": {},
   "outputs": [],
   "source": [
    "def pred_to_ctd(pred_csv, num=10):\n",
    "    pred = open(pred_csv, 'r')\n",
    "    pred = csv.reader(pred, delimiter = '\\t')\n",
    "    res = []\n",
    "    for row in pred:\n",
    "        time.sleep(0.3)\n",
    "        pollutant = row[0]\n",
    "        icd_code = row[1]\n",
    "        disease = icd.get_description(icd_code).lower()\n",
    "        \n",
    "        ctd = pollutant_ctd_disease(pollutant, num)\n",
    "        \n",
    "        ctd_res = map_ctd(ctd['Disease Name'], disease)\n",
    "        \n",
    "        if ctd_res != []:\n",
    "            res.append([pollutant, icd_code, disease, \";\".join(ctd_res)])\n",
    "        else:\n",
    "            res.append([pollutant, icd_code, disease, \"no match\"])\n",
    "\n",
    "    res = pd.DataFrame(res, columns=[\"Pollutant\", \"ICD 10 Code\", \"Disease\", \"CTD\"])\n",
    "    return res"
   ]
  },
  {
   "cell_type": "code",
   "execution_count": 34,
   "id": "643a28f4",
   "metadata": {},
   "outputs": [
    {
     "data": {
      "text/html": [
       "<div>\n",
       "<style scoped>\n",
       "    .dataframe tbody tr th:only-of-type {\n",
       "        vertical-align: middle;\n",
       "    }\n",
       "\n",
       "    .dataframe tbody tr th {\n",
       "        vertical-align: top;\n",
       "    }\n",
       "\n",
       "    .dataframe thead th {\n",
       "        text-align: right;\n",
       "    }\n",
       "</style>\n",
       "<table border=\"1\" class=\"dataframe\">\n",
       "  <thead>\n",
       "    <tr style=\"text-align: right;\">\n",
       "      <th></th>\n",
       "      <th>Pollutant</th>\n",
       "      <th>ICD 10 Code</th>\n",
       "      <th>Disease</th>\n",
       "      <th>CTD</th>\n",
       "    </tr>\n",
       "  </thead>\n",
       "  <tbody>\n",
       "    <tr>\n",
       "      <th>0</th>\n",
       "      <td>SO2</td>\n",
       "      <td>I25</td>\n",
       "      <td>chronic ischaemic heart disease</td>\n",
       "      <td>Heart Failure</td>\n",
       "    </tr>\n",
       "    <tr>\n",
       "      <th>1</th>\n",
       "      <td>SO2</td>\n",
       "      <td>I10</td>\n",
       "      <td>essential (primary) hypertension</td>\n",
       "      <td>Hypertension</td>\n",
       "    </tr>\n",
       "    <tr>\n",
       "      <th>2</th>\n",
       "      <td>NO2</td>\n",
       "      <td>I25</td>\n",
       "      <td>chronic ischaemic heart disease</td>\n",
       "      <td>Heart Failure</td>\n",
       "    </tr>\n",
       "    <tr>\n",
       "      <th>3</th>\n",
       "      <td>PM2.5</td>\n",
       "      <td>I64</td>\n",
       "      <td>stroke, not specified as haemorrhage or infarc...</td>\n",
       "      <td>Infarction, Middle Cerebral Artery</td>\n",
       "    </tr>\n",
       "    <tr>\n",
       "      <th>4</th>\n",
       "      <td>SO2</td>\n",
       "      <td>I49</td>\n",
       "      <td>other cardiac arrhythmias</td>\n",
       "      <td>no match</td>\n",
       "    </tr>\n",
       "    <tr>\n",
       "      <th>5</th>\n",
       "      <td>SO2</td>\n",
       "      <td>I25.1</td>\n",
       "      <td>atherosclerotic heart disease</td>\n",
       "      <td>Heart Failure</td>\n",
       "    </tr>\n",
       "    <tr>\n",
       "      <th>6</th>\n",
       "      <td>PM2.5</td>\n",
       "      <td>I49</td>\n",
       "      <td>other cardiac arrhythmias</td>\n",
       "      <td>no match</td>\n",
       "    </tr>\n",
       "    <tr>\n",
       "      <th>7</th>\n",
       "      <td>PM2.5</td>\n",
       "      <td>I21</td>\n",
       "      <td>acute myocardial infarction</td>\n",
       "      <td>Myocardial Ischemia;Myocardial Ischemia;Myocar...</td>\n",
       "    </tr>\n",
       "    <tr>\n",
       "      <th>8</th>\n",
       "      <td>SO2</td>\n",
       "      <td>I70</td>\n",
       "      <td>atherosclerosis</td>\n",
       "      <td>Atherosclerosis</td>\n",
       "    </tr>\n",
       "    <tr>\n",
       "      <th>9</th>\n",
       "      <td>SO2</td>\n",
       "      <td>I70.9</td>\n",
       "      <td>generalized and unspecified atherosclerosis</td>\n",
       "      <td>Atherosclerosis</td>\n",
       "    </tr>\n",
       "    <tr>\n",
       "      <th>10</th>\n",
       "      <td>SO2</td>\n",
       "      <td>I42.2</td>\n",
       "      <td>other hypertrophic cardiomyopathy</td>\n",
       "      <td>no match</td>\n",
       "    </tr>\n",
       "    <tr>\n",
       "      <th>11</th>\n",
       "      <td>NO2</td>\n",
       "      <td>I10</td>\n",
       "      <td>essential (primary) hypertension</td>\n",
       "      <td>Hypertension</td>\n",
       "    </tr>\n",
       "    <tr>\n",
       "      <th>12</th>\n",
       "      <td>PM10</td>\n",
       "      <td>I64</td>\n",
       "      <td>stroke, not specified as haemorrhage or infarc...</td>\n",
       "      <td>Infarction, Middle Cerebral Artery</td>\n",
       "    </tr>\n",
       "    <tr>\n",
       "      <th>13</th>\n",
       "      <td>PM2.5</td>\n",
       "      <td>I51.6</td>\n",
       "      <td>cardiovascular disease, unspecified</td>\n",
       "      <td>no match</td>\n",
       "    </tr>\n",
       "    <tr>\n",
       "      <th>14</th>\n",
       "      <td>PM2.5</td>\n",
       "      <td>I50</td>\n",
       "      <td>heart failure</td>\n",
       "      <td>Heart Failure</td>\n",
       "    </tr>\n",
       "    <tr>\n",
       "      <th>15</th>\n",
       "      <td>NO2</td>\n",
       "      <td>I49</td>\n",
       "      <td>other cardiac arrhythmias</td>\n",
       "      <td>no match</td>\n",
       "    </tr>\n",
       "    <tr>\n",
       "      <th>16</th>\n",
       "      <td>PM2.5</td>\n",
       "      <td>I25.9</td>\n",
       "      <td>chronic ischaemic heart disease, unspecified</td>\n",
       "      <td>Heart Failure</td>\n",
       "    </tr>\n",
       "    <tr>\n",
       "      <th>17</th>\n",
       "      <td>PM10</td>\n",
       "      <td>I21</td>\n",
       "      <td>acute myocardial infarction</td>\n",
       "      <td>Myocardial Ischemia;Myocardial Ischemia;Myocar...</td>\n",
       "    </tr>\n",
       "    <tr>\n",
       "      <th>18</th>\n",
       "      <td>O3</td>\n",
       "      <td>I64</td>\n",
       "      <td>stroke, not specified as haemorrhage or infarc...</td>\n",
       "      <td>Infarction, Middle Cerebral Artery</td>\n",
       "    </tr>\n",
       "    <tr>\n",
       "      <th>19</th>\n",
       "      <td>O3</td>\n",
       "      <td>I21</td>\n",
       "      <td>acute myocardial infarction</td>\n",
       "      <td>Myocardial Ischemia;Acute Coronary Syndrome;In...</td>\n",
       "    </tr>\n",
       "  </tbody>\n",
       "</table>\n",
       "</div>"
      ],
      "text/plain": [
       "   Pollutant ICD 10 Code                                            Disease  \\\n",
       "0        SO2         I25                    chronic ischaemic heart disease   \n",
       "1        SO2         I10                   essential (primary) hypertension   \n",
       "2        NO2         I25                    chronic ischaemic heart disease   \n",
       "3      PM2.5         I64  stroke, not specified as haemorrhage or infarc...   \n",
       "4        SO2         I49                          other cardiac arrhythmias   \n",
       "5        SO2       I25.1                      atherosclerotic heart disease   \n",
       "6      PM2.5         I49                          other cardiac arrhythmias   \n",
       "7      PM2.5         I21                        acute myocardial infarction   \n",
       "8        SO2         I70                                    atherosclerosis   \n",
       "9        SO2       I70.9        generalized and unspecified atherosclerosis   \n",
       "10       SO2       I42.2                  other hypertrophic cardiomyopathy   \n",
       "11       NO2         I10                   essential (primary) hypertension   \n",
       "12      PM10         I64  stroke, not specified as haemorrhage or infarc...   \n",
       "13     PM2.5       I51.6                cardiovascular disease, unspecified   \n",
       "14     PM2.5         I50                                      heart failure   \n",
       "15       NO2         I49                          other cardiac arrhythmias   \n",
       "16     PM2.5       I25.9       chronic ischaemic heart disease, unspecified   \n",
       "17      PM10         I21                        acute myocardial infarction   \n",
       "18        O3         I64  stroke, not specified as haemorrhage or infarc...   \n",
       "19        O3         I21                        acute myocardial infarction   \n",
       "\n",
       "                                                  CTD  \n",
       "0                                       Heart Failure  \n",
       "1                                        Hypertension  \n",
       "2                                       Heart Failure  \n",
       "3                  Infarction, Middle Cerebral Artery  \n",
       "4                                            no match  \n",
       "5                                       Heart Failure  \n",
       "6                                            no match  \n",
       "7   Myocardial Ischemia;Myocardial Ischemia;Myocar...  \n",
       "8                                     Atherosclerosis  \n",
       "9                                     Atherosclerosis  \n",
       "10                                           no match  \n",
       "11                                       Hypertension  \n",
       "12                 Infarction, Middle Cerebral Artery  \n",
       "13                                           no match  \n",
       "14                                      Heart Failure  \n",
       "15                                           no match  \n",
       "16                                      Heart Failure  \n",
       "17  Myocardial Ischemia;Myocardial Ischemia;Myocar...  \n",
       "18                 Infarction, Middle Cerebral Artery  \n",
       "19  Myocardial Ischemia;Acute Coronary Syndrome;In...  "
      ]
     },
     "execution_count": 34,
     "metadata": {},
     "output_type": "execute_result"
    }
   ],
   "source": [
    "## res.csv is the prediction file from our study\n",
    "pred_res = pred_to_ctd('res.csv', 10).head(20)\n",
    "pred_res"
   ]
  },
  {
   "cell_type": "code",
   "execution_count": 35,
   "id": "533371f3",
   "metadata": {},
   "outputs": [],
   "source": [
    "pred_res.to_csv('pred_validation.csv')"
   ]
  },
  {
   "cell_type": "markdown",
   "id": "9c499939",
   "metadata": {},
   "source": [
    "## Step 2: Validation by PubMining"
   ]
  },
  {
   "cell_type": "markdown",
   "id": "42be915d",
   "metadata": {},
   "source": [
    "we process the step 2 validation on those links which found no match in the first step"
   ]
  },
  {
   "cell_type": "code",
   "execution_count": 36,
   "id": "b26dca4d",
   "metadata": {},
   "outputs": [
    {
     "data": {
      "text/html": [
       "<div>\n",
       "<style scoped>\n",
       "    .dataframe tbody tr th:only-of-type {\n",
       "        vertical-align: middle;\n",
       "    }\n",
       "\n",
       "    .dataframe tbody tr th {\n",
       "        vertical-align: top;\n",
       "    }\n",
       "\n",
       "    .dataframe thead th {\n",
       "        text-align: right;\n",
       "    }\n",
       "</style>\n",
       "<table border=\"1\" class=\"dataframe\">\n",
       "  <thead>\n",
       "    <tr style=\"text-align: right;\">\n",
       "      <th></th>\n",
       "      <th>Pollutant</th>\n",
       "      <th>ICD 10 Code</th>\n",
       "      <th>Disease</th>\n",
       "      <th>CTD</th>\n",
       "    </tr>\n",
       "  </thead>\n",
       "  <tbody>\n",
       "    <tr>\n",
       "      <th>4</th>\n",
       "      <td>SO2</td>\n",
       "      <td>I49</td>\n",
       "      <td>other cardiac arrhythmias</td>\n",
       "      <td>no match</td>\n",
       "    </tr>\n",
       "    <tr>\n",
       "      <th>6</th>\n",
       "      <td>PM2.5</td>\n",
       "      <td>I49</td>\n",
       "      <td>other cardiac arrhythmias</td>\n",
       "      <td>no match</td>\n",
       "    </tr>\n",
       "    <tr>\n",
       "      <th>10</th>\n",
       "      <td>SO2</td>\n",
       "      <td>I42.2</td>\n",
       "      <td>other hypertrophic cardiomyopathy</td>\n",
       "      <td>no match</td>\n",
       "    </tr>\n",
       "    <tr>\n",
       "      <th>13</th>\n",
       "      <td>PM2.5</td>\n",
       "      <td>I51.6</td>\n",
       "      <td>cardiovascular disease, unspecified</td>\n",
       "      <td>no match</td>\n",
       "    </tr>\n",
       "    <tr>\n",
       "      <th>15</th>\n",
       "      <td>NO2</td>\n",
       "      <td>I49</td>\n",
       "      <td>other cardiac arrhythmias</td>\n",
       "      <td>no match</td>\n",
       "    </tr>\n",
       "  </tbody>\n",
       "</table>\n",
       "</div>"
      ],
      "text/plain": [
       "   Pollutant ICD 10 Code                              Disease       CTD\n",
       "4        SO2         I49            other cardiac arrhythmias  no match\n",
       "6      PM2.5         I49            other cardiac arrhythmias  no match\n",
       "10       SO2       I42.2    other hypertrophic cardiomyopathy  no match\n",
       "13     PM2.5       I51.6  cardiovascular disease, unspecified  no match\n",
       "15       NO2         I49            other cardiac arrhythmias  no match"
      ]
     },
     "execution_count": 36,
     "metadata": {},
     "output_type": "execute_result"
    }
   ],
   "source": [
    "un_match = pred_res.loc[ pred_res[\"CTD\"] == \"no match\"]\n",
    "un_match"
   ]
  },
  {
   "cell_type": "markdown",
   "id": "7c937c01",
   "metadata": {},
   "source": [
    "### Main function"
   ]
  },
  {
   "cell_type": "markdown",
   "id": "3274aad2",
   "metadata": {},
   "source": [
    "`pred_to_pub(pollutant, disease, num=10)`: the function `pred_to_pub` takes in a pollutant, a disease and a positive integer. `num` controls the maximum output of PubMining. The default is 10. The function returns a dictionary which containing PubMed ID, MeSH terms and a list of sentences of interest retrieved from the abstract for each paper it mined."
   ]
  },
  {
   "cell_type": "code",
   "execution_count": 33,
   "id": "4fdd9d7b",
   "metadata": {},
   "outputs": [],
   "source": [
    "def pred_to_pub(pollutant, disease, num=10):\n",
    "    # 1. remove punctuation\n",
    "    disease = disease.translate(str.maketrans('', '', string.punctuation))\n",
    "    stopword = stopwords.words(\"english\")\n",
    "    stopword.extend([\"unspecified\"])\n",
    "    # 2. stopwords\n",
    "    disease = [x for x in disease.split() if x not in stopword]\n",
    "    disease = ' '.join(disease)\n",
    "    # 3. build a query to search\n",
    "    query = pollutant + \" \" + disease\n",
    "    return query_to_link(query, num)"
   ]
  },
  {
   "cell_type": "code",
   "execution_count": 42,
   "id": "84ae98cc",
   "metadata": {},
   "outputs": [
    {
     "name": "stderr",
     "output_type": "stream",
     "text": [
      "100%|███████████████████████████████████████████| 10/10 [00:17<00:00,  1.73s/it]\n"
     ]
    },
    {
     "data": {
      "text/plain": [
       "{'35430968': {'D000397': 'Air Pollution',\n",
       "  'D000393': 'Air Pollutants',\n",
       "  'D017180': 'Tachycardia, Ventricular',\n",
       "  'D017202': 'Myocardial Ischemia',\n",
       "  'link': ['exposure to air pollution is a recognised risk factor for cardiovascular disease and has been associated with supraventricular arrhythmias',\n",
       "   'those with ischaemic heart disease appear to have the strongest association with ventricular arrhythmias in both gaseous and particulate pollution, with all three studies assessing the effects of pm2.5 demonstrating some association with ventricular arrythmia',\n",
       "   'results in the general and icd population were less consistent.\\nindividuals with ischaemic heart disease may be at an increased risk of ventricular arrhythmias following exposure to air pollution.']},\n",
       " '35398083': {'D000393': 'Air Pollutants',\n",
       "  'D000397': 'Air Pollution',\n",
       "  'D001281': 'Atrial Fibrillation',\n",
       "  'link': ['atrial fibrillation (af) is the most common sustained heart rhythm disorder associated with high mortality and morbidity',\n",
       "   'limited studies have been conducted to assess the relationship between short-term exposure to ambient air pollution and af attacks',\n",
       "   'this study aimed to explore the association between short-term ambient nitrogen dioxide (no']},\n",
       " '34980118': {'D000393': 'Air Pollutants',\n",
       "  'D000397': 'Air Pollution',\n",
       "  'D001281': 'Atrial Fibrillation',\n",
       "  'link': ['in iceland air quality is generally good; however, previous studies indicate that there is an association between air pollution in reykjavik and adverse health effects as measured by dispensing of medications, mortality, and increase in health care utilisation',\n",
       "   'the aim was to study the association between traffic-related ambient air pollution in the reykjavik capital area and emergency hospital visits for heart diseases and particularly atrial fibrillation and flutter (af).\\na multivariate time-stratified case-crossover design was used to study the association',\n",
       "   'the 24-h mean no\\nshort-term increase in no']},\n",
       " '34523977': {'D000393': 'Air Pollutants',\n",
       "  'D000397': 'Air Pollution',\n",
       "  'D001281': 'Atrial Fibrillation',\n",
       "  'link': ['atrial fibrillation (af) is associated with substantial morbidity and mortality',\n",
       "   'women.\\nwe assessed the association of high resolution spatiotemporal model predictions of long-term exposures to particulate matter (\\na total of 16,348 incident af cases were observed over 660,236 person-years of follow-up',\n",
       "   'most exposure-response associations were nonlinear']},\n",
       " '34338552': {'D000393': 'Air Pollutants',\n",
       "  'D000397': 'Air Pollution',\n",
       "  'D001281': 'Atrial Fibrillation',\n",
       "  'D009624': 'Noise, Transportation',\n",
       "  'link': ['associations between long-term exposure to air pollution and road traffic noise have been established for ischemic heart disease, but findings have been mixed for atrial fibrillation (af).\\nthe goal of the study was to examine associations of long-term exposure to road traffic noise and air pollution with af.\\ntime-varying cox regression models were used to estimate associations of 1-, 3-, and 23-y mean road traffic noise and air pollution exposures with af incidence in 23,528 women enrolled in the danish nurse cohort (age \\nof 23,528 nurses with no prior af diagnosis at the cohort baseline, 1,522 developed af during follow-up',\n",
       "   'in a fully adjusted model (including \\nour analysis of prospective data from a cohort of danish female nurses followed for up to 14 y provided suggestive evidence of independent associations between incident af and 1- and 3-y exposures to road traffic noise and ']},\n",
       " '33678796': {'link': ['the association between air pollutants and af has remained to be controversial',\n",
       "   'thus, in this study, we sought to undertake a systematic review and meta-analysis in order to assess the short- and long-term effects of ambient air pollution on af.we searched pubmed, web of science, embase, and ovid for all related studies up to october 2019']},\n",
       " '33142159': {'link': []},\n",
       " '33032561': {'link': ['arrhythmia is a common cardiovascular event that is associated with increased cardiovascular health risks',\n",
       "   'previous studies that have explored the association between air pollution and arrhythmia have obtained inconsistent results, and the association between the two in china is unclear.\\nwe collected daily data on air pollutants and meteorological factors from 1st january 2014 to 31st december 2016, along with daily outpatient visits for arrhythmia in hangzhou, china',\n",
       "   'we used a quasi-poisson regression along with a distributed lag nonlinear model to study the association between air pollution and arrhythmia morbidity.\\nthe results of the single-pollutant model showed that each increase of 10\\u2009μg/m\\nso']},\n",
       " '32552837': {'link': ['daily changes in ambient air pollution have been associated with cardiac morbidity and mortality',\n",
       "   'we adjusted for weather, lagged the exposure data from 0 to 3\\u2009days, and stratified the results by several patient-related characteristics.\\nmedian (interquartile range) for ozone (o\\nwe found no evidence that the concentrations of ambient air pollution observed in our study were a risk factor for potentially fatal cardiac arrhythmias in patients with icds.']},\n",
       " '32388273': {'D000393': 'Air Pollutants',\n",
       "  'D000397': 'Air Pollution',\n",
       "  'D001281': 'Atrial Fibrillation',\n",
       "  'link': ['atrial fibrillation (af), prevalent in approximately 1-3% of the population, is associated with a higher risk of stroke, dementia, mortality, and a reduced quality of life',\n",
       "   'we used generalized estimating equations to quantify the association between pm\\namong 218 participants with 469 af episodes we observed higher odds of af following higher 24-hour mean levels of pm\\nthese results suggest that in an urban setting with relatively low levels of ambient air pollution, hourly changes in pollutant levels may increase the risk of acute episodes of both asymptomatic and symptomatic af, especially among people with diabetes, hypertension or overweight.']}}"
      ]
     },
     "execution_count": 42,
     "metadata": {},
     "output_type": "execute_result"
    }
   ],
   "source": [
    "## example: one of the prediction that found no match in step 1 validation\n",
    "pred_to_pub(\"NO2\", \"other cardiac arrhythmias\")"
   ]
  },
  {
   "cell_type": "code",
   "execution_count": null,
   "id": "42d235f1",
   "metadata": {
    "scrolled": false
   },
   "outputs": [],
   "source": []
  },
  {
   "cell_type": "code",
   "execution_count": null,
   "id": "5de2e887",
   "metadata": {},
   "outputs": [],
   "source": []
  },
  {
   "cell_type": "code",
   "execution_count": null,
   "id": "e097d948",
   "metadata": {},
   "outputs": [],
   "source": []
  },
  {
   "cell_type": "code",
   "execution_count": null,
   "id": "3fe05a81",
   "metadata": {},
   "outputs": [],
   "source": []
  }
 ],
 "metadata": {
  "kernelspec": {
   "display_name": "Python 3 (ipykernel)",
   "language": "python",
   "name": "python3"
  },
  "language_info": {
   "codemirror_mode": {
    "name": "ipython",
    "version": 3
   },
   "file_extension": ".py",
   "mimetype": "text/x-python",
   "name": "python",
   "nbconvert_exporter": "python",
   "pygments_lexer": "ipython3",
   "version": "3.9.12"
  }
 },
 "nbformat": 4,
 "nbformat_minor": 5
}
