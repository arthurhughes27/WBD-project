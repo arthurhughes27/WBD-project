{
 "cells": [
  {
   "cell_type": "markdown",
   "id": "533e2bd8",
   "metadata": {},
   "source": [
    "# Web Based Data Project Python Script"
   ]
  },
  {
   "cell_type": "markdown",
   "id": "f5590697",
   "metadata": {},
   "source": [
    "### Importing Libraries and connecting to the server"
   ]
  },
  {
   "cell_type": "code",
   "execution_count": 312,
   "id": "105656af",
   "metadata": {},
   "outputs": [],
   "source": [
    "from tqdm import tqdm\n",
    "import time"
   ]
  },
  {
   "cell_type": "code",
   "execution_count": 6,
   "id": "13a89114",
   "metadata": {},
   "outputs": [],
   "source": [
    "#https://stackoverflow.com/questions/13652230/cant-get-entrez-to-return-mesh-terms-using-biopython\n",
    "#pip install biopython\n",
    "from Bio import Entrez\n",
    "from Bio.Entrez import efetch, read\n",
    "Entrez.email = \"arthur.hughes27@outlook.com\" "
   ]
  },
  {
   "cell_type": "code",
   "execution_count": 1,
   "id": "30d84a49",
   "metadata": {},
   "outputs": [],
   "source": [
    "from pymed import PubMed\n",
    "import pandas as pd\n",
    "import scispacy\n",
    "import spacy\n",
    "from spacy import displacy\n",
    "from collections import Counter\n",
    "import en_core_web_sm\n",
    "from nltk import word_tokenize\n",
    "import csv\n",
    "pubmed = PubMed(email=\"arthur.hughes27@outlook.com\")"
   ]
  },
  {
   "cell_type": "markdown",
   "id": "6c4ee3b6",
   "metadata": {},
   "source": [
    "### Find PubMed articles with keyword \"cardiovascular disease\" and the available molecules"
   ]
  },
  {
   "cell_type": "code",
   "execution_count": 283,
   "id": "27f56845",
   "metadata": {},
   "outputs": [],
   "source": [
    "query = \"cardiovascular disease, air pollution[TITLE]\"\n",
    "results= pubmed.query(query, max_results=10)\n",
    "#save 50 results \n",
    "articleList= []\n",
    "for article in results:   #for loop to collect articles\n",
    "  articleDict = article.toDict()\n",
    "  articleList.append(articleDict)"
   ]
  },
  {
   "cell_type": "code",
   "execution_count": 366,
   "id": "40e1b168",
   "metadata": {},
   "outputs": [
    {
     "data": {
      "text/plain": [
       "0                                                 None\n",
       "1                                                 None\n",
       "2    The burden of disease from HAP due to cooking ...\n",
       "3    At the state level, APACVD burden decreased as...\n",
       "4    The available literature provides low to moder...\n",
       "5                                                 None\n",
       "6    Based on our findings, although physical fitne...\n",
       "7                                                 None\n",
       "8                                                 None\n",
       "9                                                 None\n",
       "Name: conclusions, dtype: object"
      ]
     },
     "execution_count": 366,
     "metadata": {},
     "output_type": "execute_result"
    }
   ],
   "source": [
    "df= pd.DataFrame(articleList) #save to dataframe\n",
    "#df.head()\n",
    "df.conclusions"
   ]
  },
  {
   "cell_type": "markdown",
   "id": "65022fa2",
   "metadata": {},
   "source": [
    "## get MeSh term from PubMed papers with MajorTopicYN = 'Y'"
   ]
  },
  {
   "cell_type": "code",
   "execution_count": 363,
   "id": "cbd57ec2",
   "metadata": {},
   "outputs": [],
   "source": [
    "def mesh_helper(pmid):\n",
    "    # call PubMed API\n",
    "    handle = efetch(db='pubmed', id=str(pmid), retmode='xml')\n",
    "    xml_data = read(handle)['PubmedArticle'][0]\n",
    "\n",
    "    # skip articles without MeSH terms\n",
    "    if u'MeshHeadingList' in xml_data['MedlineCitation']:\n",
    "        for mesh in xml_data['MedlineCitation'][u'MeshHeadingList']:\n",
    "            # grab descriptor name\n",
    "            name = mesh['DescriptorName'].title()\n",
    "            descr = [mesh['DescriptorName']]\n",
    "            # grab descriptor id\n",
    "            mesh_id = list(descr[0].attributes.items())[0][1]\n",
    "            major = list(descr[0].attributes.items())[1][1]\n",
    "\n",
    "            yield(name, mesh_id, major)\n",
    "\n",
    "            \n",
    "def get_mesh(pmid_lst):\n",
    "    dlst = {}\n",
    "  #  l = 0\n",
    "    for pmid in tqdm(pmid_lst):\n",
    "        time.sleep(0.3)\n",
    "        if len(pmid)==8:\n",
    "            dlst_key = pmid\n",
    "            helper = mesh_helper(pmid)\n",
    "            dlst_val = {}\n",
    "            for name, mesh_id, major in helper:\n",
    "                if major == \"Y\":\n",
    "                    dlst_val[mesh_id] = name\n",
    "            if dlst_val != {}:\n",
    "             #   dlst_val['conclusion'] = conclusion_lst[l]\n",
    "                dlst[dlst_key]=dlst_val\n",
    "      #  l += 1\n",
    "                \n",
    "    return dlst\n",
    "\n",
    "def query_to_mesh(query, max_num):\n",
    "    results= pubmed.query(query, max_results=max_num)\n",
    "    articleList= []\n",
    "    for article in results:\n",
    "      articleDict = article.toDict()\n",
    "      articleList.append(articleDict)\n",
    "    \n",
    "    df= pd.DataFrame(articleList) \n",
    "    pmid_lst = df.pubmed_id\n",
    "  #  conclusion_lst = df.conclusions\n",
    "\n",
    "    return get_mesh(pmid_lst)"
   ]
  },
  {
   "cell_type": "code",
   "execution_count": 367,
   "id": "15d0548b",
   "metadata": {},
   "outputs": [
    {
     "name": "stderr",
     "output_type": "stream",
     "text": [
      "100%|█████████████████████████████████████████████████████████████████████████████████████████████████████████████| 30/30 [00:21<00:00,  1.40it/s]\n"
     ]
    },
    {
     "data": {
      "text/plain": [
       "{'36458351': {'D010126': 'Ozone', 'D000397': 'Air Pollution'},\n",
       " '36265970': {'D000393': 'Air Pollutants',\n",
       "  'D001249': 'Asthma',\n",
       "  'D010126': 'Ozone'},\n",
       " '36113365': {'D059630': 'Mesenchymal Stem Cells',\n",
       "  'D010126': 'Ozone',\n",
       "  'D029424': 'Pulmonary Disease, Chronic Obstructive'},\n",
       " '36089140': {'D000544': 'Alzheimer Disease',\n",
       "  'D004785': 'Environmental Pollutants',\n",
       "  'D010126': 'Ozone'},\n",
       " '36004603': {'D000393': 'Air Pollutants',\n",
       "  'D000397': 'Air Pollution',\n",
       "  'D002318': 'Cardiovascular Diseases'},\n",
       " '35914398': {'D000393': 'Air Pollutants',\n",
       "  'D017202': 'Myocardial Ischemia',\n",
       "  'D010126': 'Ozone',\n",
       "  'D052638': 'Particulate Matter'},\n",
       " '35803371': {'D000393': 'Air Pollutants',\n",
       "  'D000397': 'Air Pollution',\n",
       "  'D010126': 'Ozone',\n",
       "  'D051436': 'Renal Insufficiency, Chronic'},\n",
       " '35780850': {'D000393': 'Air Pollutants',\n",
       "  'D000397': 'Air Pollution',\n",
       "  'D003324': 'Coronary Artery Disease',\n",
       "  'D010126': 'Ozone'},\n",
       " '35544998': {'D000393': 'Air Pollutants',\n",
       "  'D000397': 'Air Pollution',\n",
       "  'D001249': 'Asthma',\n",
       "  'D003704': 'Dementia',\n",
       "  'D008175': 'Lung Neoplasms',\n",
       "  'D010126': 'Ozone',\n",
       "  'D051436': 'Renal Insufficiency, Chronic'},\n",
       " '35453008': {'D010126': 'Ozone',\n",
       "  'D011552': 'Pseudomonas Infections',\n",
       "  'D029424': 'Pulmonary Disease, Chronic Obstructive'},\n",
       " '35133585': {'D000393': 'Air Pollutants',\n",
       "  'D000397': 'Air Pollution',\n",
       "  'D006232': 'Hand, Foot And Mouth Disease'},\n",
       " '35016482': {'D000393': 'Air Pollutants',\n",
       "  'D000397': 'Air Pollution',\n",
       "  'D003327': 'Coronary Disease'}}"
      ]
     },
     "execution_count": 367,
     "metadata": {},
     "output_type": "execute_result"
    }
   ],
   "source": [
    "query_to_mesh(\"ozone, disease[TITLE]\", 30)"
   ]
  },
  {
   "cell_type": "code",
   "execution_count": 346,
   "id": "861fe1b9",
   "metadata": {
    "scrolled": false
   },
   "outputs": [
    {
     "name": "stderr",
     "output_type": "stream",
     "text": [
      "100%|█████████████████████████████████████████████████████████████████████████████████████████████████████████████| 20/20 [00:18<00:00,  1.07it/s]\n"
     ]
    },
    {
     "data": {
      "text/plain": [
       "{'36458358': {'D003296': 'Cooking', 'D000397': 'Air Pollution'},\n",
       " '36458351': {'D010126': 'Ozone', 'D000397': 'Air Pollution'},\n",
       " '36447194': {'D000544': 'Alzheimer Disease'}}"
      ]
     },
     "execution_count": 346,
     "metadata": {},
     "output_type": "execute_result"
    }
   ],
   "source": []
  },
  {
   "cell_type": "code",
   "execution_count": null,
   "id": "9ecf7d50",
   "metadata": {},
   "outputs": [],
   "source": []
  },
  {
   "cell_type": "markdown",
   "id": "66fcfec8",
   "metadata": {},
   "source": [
    "### NLP - Find potential links"
   ]
  },
  {
   "cell_type": "code",
   "execution_count": 145,
   "id": "5de2e887",
   "metadata": {},
   "outputs": [],
   "source": [
    "key_sentences=[]\n",
    "search_keywords=['associated']\n",
    "for abstract in df.abstract:\n",
    "    if abstract is not None:\n",
    "        sentences = abstract.split(\".\")\n",
    "        for sentence in sentences:\n",
    "            if sum(1 for word in search_keywords if word in sentence)>0:\n",
    "                key_sentences.append(sentence.lower())"
   ]
  },
  {
   "cell_type": "code",
   "execution_count": 146,
   "id": "e097d948",
   "metadata": {},
   "outputs": [],
   "source": [
    "potential_links=[]\n",
    "search_keywords=['NO2','O3','particulate','pollutant','air pollution','SO2','CO2','PM2.5','PM10','CO','Carbon','Oxygen']\n",
    "for element in key_sentences:\n",
    "    if sum(1 for word in search_keywords if word in element)>0:\n",
    "        potential_links.append(element)\n",
    "df2=pd.DataFrame(potential_links)\n",
    "df2.to_csv('sentences.csv',index=False)"
   ]
  },
  {
   "cell_type": "code",
   "execution_count": 147,
   "id": "3fe05a81",
   "metadata": {},
   "outputs": [
    {
     "data": {
      "text/html": [
       "<div>\n",
       "<style scoped>\n",
       "    .dataframe tbody tr th:only-of-type {\n",
       "        vertical-align: middle;\n",
       "    }\n",
       "\n",
       "    .dataframe tbody tr th {\n",
       "        vertical-align: top;\n",
       "    }\n",
       "\n",
       "    .dataframe thead th {\n",
       "        text-align: right;\n",
       "    }\n",
       "</style>\n",
       "<table border=\"1\" class=\"dataframe\">\n",
       "  <thead>\n",
       "    <tr style=\"text-align: right;\">\n",
       "      <th></th>\n",
       "      <th>0</th>\n",
       "    </tr>\n",
       "  </thead>\n",
       "  <tbody>\n",
       "    <tr>\n",
       "      <th>0</th>\n",
       "      <td>in particular, air pollution was associated w...</td>\n",
       "    </tr>\n",
       "    <tr>\n",
       "      <th>1</th>\n",
       "      <td>\\nan increased exposure to any class of air po...</td>\n",
       "    </tr>\n",
       "    <tr>\n",
       "      <th>2</th>\n",
       "      <td>long-term exposure to air pollution has been a...</td>\n",
       "    </tr>\n",
       "    <tr>\n",
       "      <th>3</th>\n",
       "      <td>\\nto investigate changes in serum metabolites ...</td>\n",
       "    </tr>\n",
       "    <tr>\n",
       "      <th>4</th>\n",
       "      <td>27 μg/m\\nour study suggested that long-term ex...</td>\n",
       "    </tr>\n",
       "    <tr>\n",
       "      <th>...</th>\n",
       "      <td>...</td>\n",
       "    </tr>\n",
       "    <tr>\n",
       "      <th>784</th>\n",
       "      <td>in the elderly, a 3-4% increase in daily deat...</td>\n",
       "    </tr>\n",
       "    <tr>\n",
       "      <th>785</th>\n",
       "      <td>in addition, it seems that older age groups a...</td>\n",
       "    </tr>\n",
       "    <tr>\n",
       "      <th>786</th>\n",
       "      <td>air pollution was associated with each of the...</td>\n",
       "    </tr>\n",
       "    <tr>\n",
       "      <th>787</th>\n",
       "      <td>in general, the gases, particularly co, but n...</td>\n",
       "    </tr>\n",
       "    <tr>\n",
       "      <th>788</th>\n",
       "      <td>the results of the current study reveal incre...</td>\n",
       "    </tr>\n",
       "  </tbody>\n",
       "</table>\n",
       "<p>789 rows × 1 columns</p>\n",
       "</div>"
      ],
      "text/plain": [
       "                                                     0\n",
       "0     in particular, air pollution was associated w...\n",
       "1    \\nan increased exposure to any class of air po...\n",
       "2    long-term exposure to air pollution has been a...\n",
       "3    \\nto investigate changes in serum metabolites ...\n",
       "4    27 μg/m\\nour study suggested that long-term ex...\n",
       "..                                                 ...\n",
       "784   in the elderly, a 3-4% increase in daily deat...\n",
       "785   in addition, it seems that older age groups a...\n",
       "786   air pollution was associated with each of the...\n",
       "787   in general, the gases, particularly co, but n...\n",
       "788   the results of the current study reveal incre...\n",
       "\n",
       "[789 rows x 1 columns]"
      ]
     },
     "execution_count": 147,
     "metadata": {},
     "output_type": "execute_result"
    }
   ],
   "source": [
    "df2"
   ]
  }
 ],
 "metadata": {
  "kernelspec": {
   "display_name": "Python 3 (ipykernel)",
   "language": "python",
   "name": "python3"
  },
  "language_info": {
   "codemirror_mode": {
    "name": "ipython",
    "version": 3
   },
   "file_extension": ".py",
   "mimetype": "text/x-python",
   "name": "python",
   "nbconvert_exporter": "python",
   "pygments_lexer": "ipython3",
   "version": "3.9.12"
  }
 },
 "nbformat": 4,
 "nbformat_minor": 5
}
